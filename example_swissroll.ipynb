{
 "cells": [
  {
   "cell_type": "code",
   "execution_count": null,
   "metadata": {},
   "outputs": [],
   "source": [
    "import numpy as np\n",
    "import matplotlib.pyplot as plt\n",
    "from initialdiffusionmodel import InitialDiffusionModel\n",
    "import torch\n",
    "import utils\n",
    "from layers import MLP\n"
   ]
  },
  {
   "cell_type": "code",
   "execution_count": null,
   "metadata": {},
   "outputs": [],
   "source": [
    "T = 50 # time steps\n",
    "n_training_data = 100000 # number of samples to train on\n",
    "n_samples = 5000 # number of samples\n",
    "\n",
    "device = 'cuca'\n",
    "mlp_model = MLP(hidden_dim=128).to(device) #nn\n",
    "\n",
    "betas = torch.sigmoid(torch.linspace(-18, 10, T)) * (3e-1 - 1e-5) + 1e-5 # noise schedule\n",
    "model = InitialDiffusionModel(T=40, betas=betas, model=mlp_model)\n",
    "optimizer = torch.optim.Adam(mlp_model.parameters(), lr=1e-4)\n",
    "\n",
    "# data\n",
    "x0 = utils.sample_batch(n_training_data)\n",
    "plt.scatter(x0[:, 0], x0[:, 1])\n",
    "plt.show()"
   ]
  },
  {
   "cell_type": "code",
   "execution_count": null,
   "metadata": {},
   "outputs": [],
   "source": [
    "# train\n",
    "model, loss = utils.train_loop(diffusion_model=model, optimizer=optimizer, batch_size=64000, nb_epochs=1000, device='cpu')\n",
    "# sample\n",
    "samples = model.sample(n_samples) "
   ]
  },
  {
   "cell_type": "code",
   "execution_count": null,
   "metadata": {},
   "outputs": [],
   "source": [
    "T2= int(T / 2)\n",
    "\n",
    "xT2_forw = model.forward_process(x0=x0, t=T2)[-1]\n",
    "xT_forw = model.forward_process(x0=x0, t=T)[-1]\n",
    "utils.create_3_subplots(x0=x0, xT2=xT2_forw, xT=xT_forw)\n",
    "\n",
    "samples = model.sample(n_samples) #, device=device)\n",
    "x0_back = samples[0]\n",
    "xT2_back = samples[T2]\n",
    "xT_back = samples[T]\n",
    "utils.create_3_subplots(x0=x0_back, xT2=xT2_back, xT=xT_back, use_forw=False)\n",
    "\n"
   ]
  }
 ],
 "metadata": {
  "kernelspec": {
   "display_name": "diffvenv",
   "language": "python",
   "name": "python3"
  },
  "language_info": {
   "codemirror_mode": {
    "name": "ipython",
    "version": 3
   },
   "file_extension": ".py",
   "mimetype": "text/x-python",
   "name": "python",
   "nbconvert_exporter": "python",
   "pygments_lexer": "ipython3",
   "version": "3.10.4"
  },
  "orig_nbformat": 4
 },
 "nbformat": 4,
 "nbformat_minor": 2
}
